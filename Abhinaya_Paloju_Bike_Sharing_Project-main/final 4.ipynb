{
 "cells": [
  {
   "cell_type": "code",
   "execution_count": 1,
   "id": "c113fd07-d7f2-4713-a99f-12ede3acc94e",
   "metadata": {},
   "outputs": [
    {
     "name": "stdout",
     "output_type": "stream",
     "text": [
      "✅ Cleaned results saved to: results/final_model_comparison.csv\n"
     ]
    },
    {
     "data": {
      "text/html": [
       "<div>\n",
       "<style scoped>\n",
       "    .dataframe tbody tr th:only-of-type {\n",
       "        vertical-align: middle;\n",
       "    }\n",
       "\n",
       "    .dataframe tbody tr th {\n",
       "        vertical-align: top;\n",
       "    }\n",
       "\n",
       "    .dataframe thead th {\n",
       "        text-align: right;\n",
       "    }\n",
       "</style>\n",
       "<table border=\"1\" class=\"dataframe\">\n",
       "  <thead>\n",
       "    <tr style=\"text-align: right;\">\n",
       "      <th></th>\n",
       "      <th>model</th>\n",
       "      <th>MAE</th>\n",
       "      <th>RMSE</th>\n",
       "      <th>R2</th>\n",
       "      <th>Adjusted_R2</th>\n",
       "      <th>Best_Params</th>\n",
       "      <th>Train_Time</th>\n",
       "    </tr>\n",
       "  </thead>\n",
       "  <tbody>\n",
       "    <tr>\n",
       "      <th>0</th>\n",
       "      <td>XGBoost</td>\n",
       "      <td>0.054611</td>\n",
       "      <td>0.083225</td>\n",
       "      <td>1.000000</td>\n",
       "      <td>1.000000</td>\n",
       "      <td>{'subsample': 1.0, 'n_estimators': 500, 'max_d...</td>\n",
       "      <td>27.730578</td>\n",
       "    </tr>\n",
       "    <tr>\n",
       "      <th>1</th>\n",
       "      <td>GradientBoosting</td>\n",
       "      <td>0.299457</td>\n",
       "      <td>0.403226</td>\n",
       "      <td>0.999997</td>\n",
       "      <td>0.999997</td>\n",
       "      <td>{'subsample': 0.9, 'n_estimators': 500, 'max_d...</td>\n",
       "      <td>145.326069</td>\n",
       "    </tr>\n",
       "    <tr>\n",
       "      <th>2</th>\n",
       "      <td>RandomForest</td>\n",
       "      <td>2.507693</td>\n",
       "      <td>4.294221</td>\n",
       "      <td>0.999619</td>\n",
       "      <td>0.999618</td>\n",
       "      <td>{'n_estimators': 100, 'max_features': 0.3, 'ma...</td>\n",
       "      <td>60.636014</td>\n",
       "    </tr>\n",
       "  </tbody>\n",
       "</table>\n",
       "</div>"
      ],
      "text/plain": [
       "              model       MAE      RMSE        R2  Adjusted_R2  \\\n",
       "0           XGBoost  0.054611  0.083225  1.000000     1.000000   \n",
       "1  GradientBoosting  0.299457  0.403226  0.999997     0.999997   \n",
       "2      RandomForest  2.507693  4.294221  0.999619     0.999618   \n",
       "\n",
       "                                         Best_Params  Train_Time  \n",
       "0  {'subsample': 1.0, 'n_estimators': 500, 'max_d...   27.730578  \n",
       "1  {'subsample': 0.9, 'n_estimators': 500, 'max_d...  145.326069  \n",
       "2  {'n_estimators': 100, 'max_features': 0.3, 'ma...   60.636014  "
      ]
     },
     "metadata": {},
     "output_type": "display_data"
    }
   ],
   "source": [
    "import pandas as pd\n",
    "\n",
    "# Load your previous results\n",
    "results_path = \"results/tree_models_search.csv\"\n",
    "results_df = pd.read_csv(results_path)\n",
    "\n",
    "# Keep best (lowest RMSE) per model\n",
    "best_results = results_df.loc[results_df.groupby(\"model\")[\"RMSE\"].idxmin()]\n",
    "\n",
    "# Sort by RMSE ascending (best first)\n",
    "best_results = best_results.sort_values(by=\"RMSE\").reset_index(drop=True)\n",
    "\n",
    "# Save clean comparison\n",
    "final_path = \"results/final_model_comparison.csv\"\n",
    "best_results.to_csv(final_path, index=False)\n",
    "\n",
    "print(\"✅ Cleaned results saved to:\", final_path)\n",
    "display(best_results)\n"
   ]
  },
  {
   "cell_type": "code",
   "execution_count": 2,
   "id": "6ddd481a-954c-493f-87a0-99c652415b5c",
   "metadata": {},
   "outputs": [
    {
     "name": "stdout",
     "output_type": "stream",
     "text": [
      "✅ Cleaned results saved to: results/final_model_comparison.csv\n"
     ]
    },
    {
     "data": {
      "text/html": [
       "<div>\n",
       "<style scoped>\n",
       "    .dataframe tbody tr th:only-of-type {\n",
       "        vertical-align: middle;\n",
       "    }\n",
       "\n",
       "    .dataframe tbody tr th {\n",
       "        vertical-align: top;\n",
       "    }\n",
       "\n",
       "    .dataframe thead th {\n",
       "        text-align: right;\n",
       "    }\n",
       "</style>\n",
       "<table border=\"1\" class=\"dataframe\">\n",
       "  <thead>\n",
       "    <tr style=\"text-align: right;\">\n",
       "      <th></th>\n",
       "      <th>model</th>\n",
       "      <th>MAE</th>\n",
       "      <th>RMSE</th>\n",
       "      <th>R2</th>\n",
       "      <th>Adjusted_R2</th>\n",
       "      <th>Best_Params</th>\n",
       "      <th>Train_Time</th>\n",
       "    </tr>\n",
       "  </thead>\n",
       "  <tbody>\n",
       "    <tr>\n",
       "      <th>0</th>\n",
       "      <td>XGBoost</td>\n",
       "      <td>0.054611</td>\n",
       "      <td>0.083225</td>\n",
       "      <td>1.000000</td>\n",
       "      <td>1.000000</td>\n",
       "      <td>{'subsample': 1.0, 'n_estimators': 500, 'max_d...</td>\n",
       "      <td>27.730578</td>\n",
       "    </tr>\n",
       "    <tr>\n",
       "      <th>1</th>\n",
       "      <td>GradientBoosting</td>\n",
       "      <td>0.299457</td>\n",
       "      <td>0.403226</td>\n",
       "      <td>0.999997</td>\n",
       "      <td>0.999997</td>\n",
       "      <td>{'subsample': 0.9, 'n_estimators': 500, 'max_d...</td>\n",
       "      <td>145.326069</td>\n",
       "    </tr>\n",
       "    <tr>\n",
       "      <th>2</th>\n",
       "      <td>RandomForest</td>\n",
       "      <td>2.507693</td>\n",
       "      <td>4.294221</td>\n",
       "      <td>0.999619</td>\n",
       "      <td>0.999618</td>\n",
       "      <td>{'n_estimators': 100, 'max_features': 0.3, 'ma...</td>\n",
       "      <td>60.636014</td>\n",
       "    </tr>\n",
       "  </tbody>\n",
       "</table>\n",
       "</div>"
      ],
      "text/plain": [
       "              model       MAE      RMSE        R2  Adjusted_R2  \\\n",
       "0           XGBoost  0.054611  0.083225  1.000000     1.000000   \n",
       "1  GradientBoosting  0.299457  0.403226  0.999997     0.999997   \n",
       "2      RandomForest  2.507693  4.294221  0.999619     0.999618   \n",
       "\n",
       "                                         Best_Params  Train_Time  \n",
       "0  {'subsample': 1.0, 'n_estimators': 500, 'max_d...   27.730578  \n",
       "1  {'subsample': 0.9, 'n_estimators': 500, 'max_d...  145.326069  \n",
       "2  {'n_estimators': 100, 'max_features': 0.3, 'ma...   60.636014  "
      ]
     },
     "metadata": {},
     "output_type": "display_data"
    },
    {
     "data": {
      "image/png": "[encoded data removed]",
      "text/plain": [
       "<Figure size 800x500 with 1 Axes>"
      ]
     },
     "metadata": {},
     "output_type": "display_data"
    }
   ],
   "source": [
    "import matplotlib.pyplot as plt\n",
    "\n",
    "import pandas as pd\n",
    "\n",
    "# Load your previous results\n",
    "results_path = \"results/tree_models_search.csv\"\n",
    "results_df = pd.read_csv(results_path)\n",
    "\n",
    "# Keep best (lowest RMSE) per model\n",
    "best_results = results_df.loc[results_df.groupby(\"model\")[\"RMSE\"].idxmin()]\n",
    "\n",
    "# Sort by RMSE ascending (best first)\n",
    "best_results = best_results.sort_values(by=\"RMSE\").reset_index(drop=True)\n",
    "\n",
    "# Save clean comparison\n",
    "final_path = \"results/final_model_comparison.csv\"\n",
    "best_results.to_csv(final_path, index=False)\n",
    "\n",
    "print(\"✅ Cleaned results saved to:\", final_path)\n",
    "display(best_results)\n",
    "\n",
    "plt.figure(figsize=(8,5))\n",
    "plt.bar(best_results['model'], best_results['RMSE'], color='skyblue')\n",
    "plt.xlabel(\"Model\")\n",
    "plt.ylabel(\"RMSE\")\n",
    "plt.title(\"RMSE Comparison of Tree Models\")\n",
    "plt.xticks(rotation=45)\n",
    "plt.tight_layout()\n",
    "plt.show()"
   ]
  },
  {
   "cell_type": "code",
   "execution_count": null,
   "id": "c3c09efc-b3e7-48dd-b72c-f3156b336649",
   "metadata": {},
   "outputs": [],
   "source": []
  }
 ],
 "metadata": {
  "kernelspec": {
   "display_name": "Python 3 (ipykernel)",
   "language": "python",
   "name": "python3"
  },
  "language_info": {
   "codemirror_mode": {
    "name": "ipython",
    "version": 3
   },
   "file_extension": ".py",
   "mimetype": "text/x-python",
   "name": "python",
   "nbconvert_exporter": "python",
   "pygments_lexer": "ipython3",
   "version": "3.13.5"
  }
 },
 "nbformat": 4,
 "nbformat_minor": 5
}
